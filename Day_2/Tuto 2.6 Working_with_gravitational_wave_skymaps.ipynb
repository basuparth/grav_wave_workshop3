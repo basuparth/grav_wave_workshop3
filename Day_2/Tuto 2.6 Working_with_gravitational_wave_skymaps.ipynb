{
 "cells": [
  {
   "cell_type": "markdown",
   "metadata": {
    "Collapsed": "false",
    "colab_type": "text",
    "id": "7Gh4yLBUA6nR"
   },
   "source": [
    "<img style=\"float: left;padding: 1.3em\" src=\"https://indico.in2p3.fr/event/18313/logo-786578160.png\">  \n",
    "\n",
    "#  Gravitational Wave Open Data Workshop #3\n",
    "\n",
    "\n",
    "#### Tutorial 2.6: skymap and source localization of gravitational-wave events\n",
    "\n",
    "In this tutorial we will learn how: \n",
    "\n",
    "    1) to visualize over the sky the gravitational-wave localization \n",
    "    2) to get information from the image's header\n",
    "    3) to identify the maximum probability pixel \n",
    "    4) to create the confidence levels and query the galaxy catalog(s)\n",
    "    \n",
    "[Click this link to view this tutorial in Google Colaboratory](https://colab.research.google.com/github/gw-odw/odw-2019/blob/master/Day_2/Tuto%202.6%20Working_with_gravitational_wave_skymaps.ipynb)"
   ]
  },
  {
   "cell_type": "markdown",
   "metadata": {
    "Collapsed": "false",
    "colab_type": "text",
    "id": "XoXK5903A6nW"
   },
   "source": [
    "##  Installation  (execute only if running on a cloud platform!)"
   ]
  },
  {
   "cell_type": "code",
   "execution_count": 1,
   "metadata": {
    "Collapsed": "false",
    "colab": {
     "base_uri": "https://localhost:8080/",
     "height": 1000
    },
    "colab_type": "code",
    "id": "M7bP71f5CLWj",
    "outputId": "76ec8096-5312-4b86-cfbf-09c0eb4c7127"
   },
   "outputs": [],
   "source": [
    "# -- Use for Google Colab\n",
    "#! pip install -q 'healpy==1.13.0' 'astropy==4.0'"
   ]
  },
  {
   "cell_type": "markdown",
   "metadata": {
    "Collapsed": "false",
    "colab_type": "text",
    "id": "6ZOC-jisaEyV"
   },
   "source": [
    "**Important:** With Google Colab, you may need to restart the runtime after running the cell above."
   ]
  },
  {
   "cell_type": "markdown",
   "metadata": {
    "Collapsed": "false",
    "colab_type": "text",
    "id": "7XPY2X6vaEyY"
   },
   "source": [
    "## Initialization"
   ]
  },
  {
   "cell_type": "code",
   "execution_count": 2,
   "metadata": {
    "Collapsed": "false",
    "colab": {},
    "colab_type": "code",
    "id": "fr1pbfjzA6nY"
   },
   "outputs": [],
   "source": [
    "from IPython.display import display, Math, Latex\n",
    "from __future__ import print_function\n",
    "%matplotlib inline"
   ]
  },
  {
   "cell_type": "markdown",
   "metadata": {
    "Collapsed": "false",
    "colab_type": "text",
    "id": "32HyQWWHA6nm"
   },
   "source": [
    "# LIGO/Virgo probability sky maps - a short introduction\n",
    " \n",
    "Probability sky maps associated with a gravitational-wave signal detected by \n",
    "the Advanced LIGO and Virgo are given as all-sky \n",
    "images stored in the [HEALPix](http://healpix.sourceforge.net/)\n",
    "(Hierarchical Equal Area isoLatitude Pixelisation) projection.\n",
    "The  sphere  is  hierarchically tessellated into curvilinear quadrilaterals; \n",
    "the resolution of the tessellation can be increased by the division of each pixel into four new ones.  \n",
    "The lowest resolution partition is comprised of twelve base pixels.\n",
    "The pixel position on the sky is uniquely specified by the index in the array and the array’s length.\n",
    "The resolution of the grid is expressed by the parameter $N_{side}$,\n",
    "and the total number of pixels equal to $N_{pix} = 12 \\times N_{side}^2$. "
   ]
  },
  {
   "cell_type": "markdown",
   "metadata": {
    "Collapsed": "false",
    "colab_type": "text",
    "id": "myTfV_dDA6no"
   },
   "source": [
    "\n",
    "\n",
    "\n",
    "\n",
    "<img style=\"float: left;padding: 1.3em\" src=\"https://healpix.jpl.nasa.gov/images/healpixGridRefinement.jpg\"> "
   ]
  },
  {
   "cell_type": "markdown",
   "metadata": {
    "Collapsed": "false",
    "colab_type": "text",
    "id": "iOsPR39MA6nq"
   },
   "source": [
    "**FIG.1.** It shows the partitioning of a sphere at progressively higher resolutions, from left to right. The green sphere represents the lowest resolution possible with the HEALPix base partitioning of the sphere surface into 12 equal sized pixels. The yellow sphere has a HEALPix grid of 48 pixels, the red sphere has 192 pixels, and the blue sphere has a grid of 768 pixels - more information [here](https://healpix.jpl.nasa.gov/). "
   ]
  },
  {
   "cell_type": "markdown",
   "metadata": {
    "Collapsed": "false",
    "colab_type": "text",
    "id": "4FOWYLlcA6nu"
   },
   "source": [
    "## Downloading  and reading GW sky localizations\n",
    "\n",
    "\n",
    "The signal-to-noise ratio (SNR) contributed by Virgo can significantly shrink the area. We find the smallest 90% sky localization areas for GW170817: $16\\deg^2$ and GW170818: $39 \\deg^2$. The two sky localization maps will be used in the tutorial.\n",
    "\n",
    "\n",
    "\n",
    "\n",
    "\n",
    "\n",
    "Specifically, we will use the LALInference skymap published in  the [Gravitational-Wave Transient Catalog of Compact Binary Mergers (O1 & O2) GWTC-1](https://www.gw-openscience.org/catalog/).\n"
   ]
  },
  {
   "cell_type": "markdown",
   "metadata": {
    "Collapsed": "false",
    "colab_type": "text",
    "id": "VTCH9GhzA6nw"
   },
   "source": [
    "### Working with GW170818 - BBH merger"
   ]
  },
  {
   "cell_type": "markdown",
   "metadata": {
    "Collapsed": "false",
    "colab_type": "text",
    "id": "YVSdRX3MA6ny"
   },
   "source": [
    "We will download the refined skymap from the binary black hole (BBH) merger event, GW170818. GW170818 is the second BBH observed in triple-coincidence between the two LIGO observatories and Virgo after [GW170814](https://apod.nasa.gov/apod/ap170928.html)."
   ]
  },
  {
   "cell_type": "code",
   "execution_count": 3,
   "metadata": {
    "Collapsed": "false",
    "colab": {},
    "colab_type": "code",
    "id": "SlJF8BmEA6n1"
   },
   "outputs": [],
   "source": [
    "from astropy.utils.data import download_file\n",
    "url = ('https://dcc.ligo.org/public/0157/P1800381/002/GW170818_skymap.fits.gz')\n",
    "gw170818_skymap = download_file(url, cache=True)"
   ]
  },
  {
   "cell_type": "markdown",
   "metadata": {
    "Collapsed": "false",
    "colab_type": "text",
    "id": "3QffjnQGA6n7"
   },
   "source": [
    "<span style=\"color:#B22222\"> <strong> ↳ </strong> </span>  We are going to demonstrate how to read HEALPix maps with the official Python library, Healpy."
   ]
  },
  {
   "cell_type": "code",
   "execution_count": 4,
   "metadata": {
    "Collapsed": "false",
    "colab": {
     "base_uri": "https://localhost:8080/",
     "height": 141
    },
    "colab_type": "code",
    "id": "KCXVpjgLA6n-",
    "outputId": "bf5cb3a9-f8a4-471a-f904-8a3de6287225"
   },
   "outputs": [
    {
     "name": "stdout",
     "output_type": "stream",
     "text": [
      "NSIDE = 1024\n",
      "ORDERING = NESTED in fits file\n",
      "INDXSCHM = IMPLICIT\n",
      "Ordering converted to RING\n"
     ]
    }
   ],
   "source": [
    "import healpy as hp\n",
    "prob, header = hp.read_map(gw170818_skymap, h=True)"
   ]
  },
  {
   "cell_type": "markdown",
   "metadata": {
    "Collapsed": "false",
    "colab_type": "text",
    "id": "LErmz81pA6oP"
   },
   "source": [
    "<span style=\"color:#B22222\"> <strong> ↳ </strong> </span> We can look at the metadata inside the FITS file by printing its header. The circulars issued by the LIGO and Virgo Collaborations contain information from the skymap headers  - more information in [LIGO/Virgo Public Alerts User Guide](https://emfollow.docs.ligo.org/userguide/tutorial/skymaps.html))."
   ]
  },
  {
   "cell_type": "code",
   "execution_count": 5,
   "metadata": {
    "Collapsed": "false",
    "colab": {
     "base_uri": "https://localhost:8080/",
     "height": 763
    },
    "colab_type": "code",
    "id": "GytiMG2XA6oS",
    "outputId": "8f3e1188-4536-4bf3-970c-6e6baf7be2b9"
   },
   "outputs": [
    {
     "data": {
      "text/plain": [
       "[('XTENSION', 'BINTABLE'),\n",
       " ('BITPIX', 8),\n",
       " ('NAXIS', 2),\n",
       " ('NAXIS1', 32),\n",
       " ('NAXIS2', 12582912),\n",
       " ('PCOUNT', 0),\n",
       " ('GCOUNT', 1),\n",
       " ('TFIELDS', 4),\n",
       " ('TTYPE1', 'PROB'),\n",
       " ('TFORM1', 'D'),\n",
       " ('TUNIT1', 'pix-1'),\n",
       " ('TTYPE2', 'DISTMU'),\n",
       " ('TFORM2', 'D'),\n",
       " ('TUNIT2', 'Mpc'),\n",
       " ('TTYPE3', 'DISTSIGMA'),\n",
       " ('TFORM3', 'D'),\n",
       " ('TUNIT3', 'Mpc'),\n",
       " ('TTYPE4', 'DISTNORM'),\n",
       " ('TFORM4', 'D'),\n",
       " ('TUNIT4', 'Mpc-2'),\n",
       " ('PIXTYPE', 'HEALPIX'),\n",
       " ('ORDERING', 'NESTED'),\n",
       " ('COORDSYS', 'C'),\n",
       " ('NSIDE', 1024),\n",
       " ('INDXSCHM', 'IMPLICIT'),\n",
       " ('OBJECT', 'GW170818'),\n",
       " ('DATE-OBS', '2017-08-18T02:25:09.088401'),\n",
       " ('MJD-OBS', 57983.10079963422),\n",
       " ('DATE', '2018-12-07T05:21:12.820251'),\n",
       " ('CREATOR', 'ligo-skymap-from-samples'),\n",
       " ('ORIGIN', 'LIGO/Virgo'),\n",
       " ('DISTMEAN', 1033.935452663821),\n",
       " ('DISTSTD', 244.9451365743755),\n",
       " ('VCSVERS', 'ligo.skymap 0.0.14'),\n",
       " ('VCSREV', '707cac6e1e006dfcc35b7af4c2f39ba8c3b7fa22'),\n",
       " ('DATE-BLD', '2018-08-28T08:58:40'),\n",
       " ('HISTORY', ''),\n",
       " ('HISTORY', 'Generated by running the following script:'),\n",
       " ('HISTORY',\n",
       "  'ligo-skymap-from-samples --fitsoutname Combined_Isp_Sprec_skymap_time_fi'),\n",
       " ('HISTORY',\n",
       "  'x.fits.gz --seed 103876236 --objid GW170818 Combined_Isp_Sprec_post_time'),\n",
       " ('HISTORY', '_fix.dat')]"
      ]
     },
     "execution_count": 5,
     "metadata": {},
     "output_type": "execute_result"
    }
   ],
   "source": [
    "header"
   ]
  },
  {
   "cell_type": "markdown",
   "metadata": {
    "Collapsed": "false",
    "colab_type": "text",
    "id": "GpDROZHEA6of"
   },
   "source": [
    "### 3D sky maps\n",
    "[Singer et al.(2016)](https://arxiv.org/pdf/1603.07333v2.pdf) discuss a rapid algorithm for obtaining a three-dimensional probability estimates of sky location and luminosity distance from observations of binary \n",
    "compact object mergers with Advanced LIGO and Virgo. Combining the reconstructed gravitational wave volumes with positions and redshifts of possible host  galaxies  provides  a  manageable  list  of  sky location  targets  to  search  for  the  electromagnetic counterpart of the gravitational wave signal  - see the last section.\n",
    "\n",
    "<span style=\"color:#B22222\"> <strong> ↳ </strong> </span>  marginal distance posterior distribution integrated over the whole sky is reported in the header *with* \n",
    "\n",
    "       DISTMEAN    /Posterior mean distance (Mpc)\n",
    "       DISTSTB     /Posterior standard deviation of distance (Mpc)"
   ]
  },
  {
   "cell_type": "markdown",
   "metadata": {
    "Collapsed": "false",
    "colab_type": "text",
    "id": "ipeDrgwSA6oh"
   },
   "source": [
    "<span style=\"color:#B22222\"> <strong> ↳ </strong> </span> Healpy has several useful plotting routines including **[hp.mollview](https://healpy.readthedocs.io/en/stable/generated/healpy.visufunc.mollview.html#healpy.visufunc.mollview)** for plotting a Mollweide-projection all-sky map: "
   ]
  },
  {
   "cell_type": "code",
   "execution_count": 6,
   "metadata": {
    "Collapsed": "false",
    "colab": {
     "base_uri": "https://localhost:8080/",
     "height": 440
    },
    "colab_type": "code",
    "id": "nBCVoVHeA6oi",
    "outputId": "e5d6461d-76d0-4f15-94ba-c9c367e439ea"
   },
   "outputs": [
    {
     "name": "stderr",
     "output_type": "stream",
     "text": [
      "/cvmfs/oasis.opensciencegrid.org/ligo/sw/conda/envs/igwn-py37/lib/python3.7/site-packages/healpy/projaxes.py:1196: MatplotlibDeprecationWarning: \n",
      "The iterable function was deprecated in Matplotlib 3.1 and will be removed in 3.3. Use np.iterable instead.\n",
      "  if matplotlib.cbook.iterable(value):\n",
      "/cvmfs/oasis.opensciencegrid.org/ligo/sw/conda/envs/igwn-py37/lib/python3.7/site-packages/healpy/projaxes.py:1155: MatplotlibDeprecationWarning: \n",
      "The iterable function was deprecated in Matplotlib 3.1 and will be removed in 3.3. Use np.iterable instead.\n",
      "  if matplotlib.cbook.iterable(value):\n"
     ]
    },
    {
     "name": "stdout",
     "output_type": "stream",
     "text": [
      "0.0 180.0 -180.0 180.0\n",
      "The interval between parallels is 30 deg -0.00'.\n",
      "The interval between meridians is 30 deg -0.00'.\n"
     ]
    },
    {
     "data": {
      "image/png": "[encoded data removed]",
      "text/plain": [
       "<Figure size 612x388.8 with 2 Axes>"
      ]
     },
     "metadata": {
      "needs_background": "light"
     },
     "output_type": "display_data"
    }
   ],
   "source": [
    "hp.mollview(prob, title='GW170818 LALInference',)\n",
    "hp.graticule()"
   ]
  },
  {
   "cell_type": "markdown",
   "metadata": {
    "Collapsed": "false",
    "colab_type": "text",
    "id": "iaZkKk2TA6ov"
   },
   "source": [
    "The value stored at each pixel represents the probability that the gravitational-wave source \n",
    "is located within that pixel."
   ]
  },
  {
   "cell_type": "markdown",
   "metadata": {
    "Collapsed": "false",
    "colab_type": "text",
    "id": "HCMpXwOoA6o8"
   },
   "source": [
    "###  Finding the maximum probability density pixel\n",
    "<span style=\"color:#B22222\"> <strong> ↳ </strong> </span> We are identifying the highest probability pixel `ipix_max` and the probability inside it `highest_probability`."
   ]
  },
  {
   "cell_type": "code",
   "execution_count": 7,
   "metadata": {
    "Collapsed": "false",
    "colab": {},
    "colab_type": "code",
    "id": "upPU66qzA6o-"
   },
   "outputs": [],
   "source": [
    "import numpy as np\n",
    "ipix_max = np.argmax(prob)\n",
    "highest_probability = prob[ipix_max]"
   ]
  },
  {
   "cell_type": "markdown",
   "metadata": {
    "Collapsed": "false",
    "colab_type": "text",
    "id": "HzVvgxypA6pF"
   },
   "source": [
    "<span style=\"color:#B22222\"> <strong> ↳ </strong> </span> Now we define the sky coordinates `ra`, `dec` of the highest probability pixel."
   ]
  },
  {
   "cell_type": "code",
   "execution_count": 8,
   "metadata": {
    "Collapsed": "false",
    "colab": {
     "base_uri": "https://localhost:8080/",
     "height": 35
    },
    "colab_type": "code",
    "id": "btK2Vta3A6pH",
    "outputId": "148737d7-def5-49f0-efc4-a247e280e556"
   },
   "outputs": [
    {
     "name": "stdout",
     "output_type": "stream",
     "text": [
      "The sky coordinates of the highest probability pixel are: ra = 341.2793 dec = 22.38692 (ICRS coordinates in degrees)\n"
     ]
    }
   ],
   "source": [
    "nside = hp.get_nside(prob) # calculate the healpix resolution - nside\n",
    "\n",
    "theta, phi = hp.pix2ang(nside, ipix_max)\n",
    "ra = np.rad2deg(phi)\n",
    "dec = np.rad2deg(0.5 * np.pi - theta)\n",
    "\n",
    "ra = round(ra,5); dec = round(dec,5);\n",
    "print(\"The sky coordinates of the highest probability pixel are:\", \"ra =\",ra,\"dec =\",dec, \"(ICRS coordinates in degrees)\")"
   ]
  },
  {
   "cell_type": "markdown",
   "metadata": {
    "Collapsed": "false",
    "colab_type": "text",
    "id": "7DcEL6zEA6pN"
   },
   "source": [
    "The function **[hp.pix2ang](https://healpy.readthedocs.io/en/stable/generated/healpy.pixelfunc.pix2ang.html#healpy.pixelfunc.pix2ang)** converts from pixel index to spherical polar coordinates; the function **[hp.ang2pix](https://healpy.readthedocs.io/en/stable/generated/healpy.pixelfunc.ang2pix.html#healpy.pixelfunc.ang2pix)** does the reverse."
   ]
  },
  {
   "cell_type": "markdown",
   "metadata": {
    "Collapsed": "false",
    "colab_type": "text",
    "id": "PAO4ogE1A6pO"
   },
   "source": [
    "Alternatively, you can use [astropy-healpix](https://astropy-healpix.readthedocs.io/en/latest/installation.html) to perform the same tasks. We recommand this alternative solution for the Windows OS users."
   ]
  },
  {
   "cell_type": "markdown",
   "metadata": {
    "Collapsed": "false",
    "colab_type": "text",
    "id": "Hg5v6mDoA6pn"
   },
   "source": [
    "## Working with GW170817 - BNS Merger"
   ]
  },
  {
   "cell_type": "markdown",
   "metadata": {
    "Collapsed": "false",
    "colab_type": "text",
    "id": "4GfzqqDyA6pt"
   },
   "source": [
    "On August 17, 2017 astronomers around the world were alerted to gravitational waves observed by the Advanced LIGO and Advanced Virgo detectors. This gravitational wave event, now known as GW170817, appeared to be the result of the merger of two neutron stars (BNS). Less than two seconds after the GW170817 signal, NASA's [Fermi](https://fermi.gsfc.nasa.gov/) satellite observed a gamma-ray burst, now known as GRB170817A, and within minutes of these initial detections telescopes around the world began an extensive observing campaign. The [Swope telescope](http://obs.carnegiescience.edu/swope) in Chile was the first to report a bright optical source (SSS17a/AT2017gfo) in the galaxy NGC 4993 and several other teams independently detected the same transient over the next minutes and hours.  \n",
    "GW170817 marks a new era of multi-messenger astronomy, where the same event is observed by both gravitational waves and electromagnetic waves. [The Dawn of Multi-Messenger Astrophysics: Observations of a Binary Neutron Star Merger](http://ligo.org/science/Publication-GW170817MMA/). \n"
   ]
  },
  {
   "cell_type": "markdown",
   "metadata": {
    "Collapsed": "false",
    "colab_type": "text",
    "id": "-tblmU3kA6nj"
   },
   "source": [
    "### Aladin Sky Atlas\n",
    "\n",
    "Aladin is an interactive sky atlas allowing the user to visualize digitized astronomical images or full surveys, superimpose entries from astronomical catalogues or databases, and interactively access related data and information from the *Simbad* database, the *VizieR* service and other archives for all known astronomical objects in the field.\n",
    "\n",
    "**You now must install the Aladin GUI following those [instructions](<https://aladin.u-strasbg.fr/java/nph-aladin.pl?frame=downloading>).**\n",
    "\n",
    "If you are a Linux user: download the Aladin tarball, and launch the Aladin GUI with the following command line: java -jar -Xmx1G Aladin.jar\n",
    "\n",
    "If you are a Mac OS user: download the Aladin dmg, and launch (preferably) the Aladin GUI with the following command line: java -jar -Xmx1G /Applications/Aladin.app/Contents/Ressources/Java/Aladin.jar"
   ]
  },
  {
   "cell_type": "markdown",
   "metadata": {
    "Collapsed": "false",
    "colab_type": "text",
    "id": "YCh7ERC5A6pw"
   },
   "source": [
    "\n",
    "####  ↳ Loading the skymap from the [GWOSC](https://www.gw-openscience.org/catalog/) in Aladin\n",
    "* [Using Aladin GUI](https://drive.google.com/open?id=1DlWUxzqgSZpYAckaq58ZGMXHlJAaEwc4) <em>Copy and Paste the link in the Command Bar </em>\n",
    "\n",
    "####  ↳ Reading the header\n",
    "* [Using Aladin GUI](https://drive.google.com/open?id=1sl3_uedBfbbOLvSZCdckSQKPJZwWzyxE) <em>Edit → Fits header </em>\n",
    "           .\n",
    "           .\n",
    "           .\n",
    "        DISTMEAN=    38.59 / Posterior mean distance (Mpc)\n",
    "        DISTSTD =     6.99 / Posterior standard deviation of distance (Mpc)\n",
    "           .\n",
    "           .\n",
    "           .\n",
    "\n",
    "####  ↳ Creating the 90% confidence level \n",
    "* [Using Aladin GUI](https://drive.google.com/open?id=1aH-YvEyN9xeD9kGZkQ7ASXNcDK-33KUt) <em>Coverage → Generate a MOC based on... → The current probability skymap → MOC generation window </em>\n",
    "\n",
    "The plot shows the 90% credible regions. These contours were constructed ranking the pixels from most probable to least, and finally counted how many pixels summed to a given total probability. Place your mouse arrow on the MOC plane (bottom right). You can then read in the description on the top right the solid angle ('Space') associated with the skymap. How many square degrees to you read?\n",
    "\n",
    "We can do a similar plot using a dedicated package named  [ligo.skymap](https://pypi.org/project/ligo.skymap/).\n",
    "\n",
    "####  ↳ Setting Drawing method\n",
    "* [Using Aladin GUI](https://drive.google.com/open?id=1Xy6S-y9SRB_TIKFYcecUrXtqdAZ96YcI) <em> Aladin stack → Select the plane → right-click → Properties...  → Properties window   </em>\n",
    "\n",
    "####  ↳ Querying the GLADE galaxy catalog (v2.3) and select the galaxies compatible with the direction of the source\n",
    "* [Using Aladin GUI](https://drive.google.com/open?id=11rCSzdUd4AP49T26ujOyQfZ0CQ4e9KP1) <em> Aladin data collections tree → Select → click on the catalog item → in the popup menu check  → by region&MOC   </em>\n",
    "\n",
    "####  ↳ Filtering the galaxies  according with the distance information\n",
    "* [Using Aladin GUI](https://drive.google.com/open?id=1FJ0GtEt4qXOtEmET7mXtCW_0lggouXUm) <em> Catalog →  Create a filter  → Properties window → Advanced mode → Or enter your filter definition: `${Dist}>31 && ${Dist}<45 {draw}`    </em>\n",
    " \n",
    "####  ↳ Search for the host galaxy NGC 4993\n",
    "* [Using Aladin GUI](https://drive.google.com/open?id=1cSeL3HJBAEXAqBOGSdb5zTAAZPhpVPpM) <em>Type in the Command bar: NGC 4993    </em>"
   ]
  }
 ],
 "metadata": {
  "colab": {
   "collapsed_sections": [],
   "name": "Working with gravitational-wave skymaps.ipynb",
   "provenance": []
  },
  "kernelspec": {
   "display_name": "igwn-py37",
   "language": "python",
   "name": "igwn-py37"
  },
  "language_info": {
   "codemirror_mode": {
    "name": "ipython",
    "version": 3
   },
   "file_extension": ".py",
   "mimetype": "text/x-python",
   "name": "python",
   "nbconvert_exporter": "python",
   "pygments_lexer": "ipython3",
   "version": "3.7.3"
  }
 },
 "nbformat": 4,
 "nbformat_minor": 4
}
